{
 "cells": [
  {
   "cell_type": "code",
   "execution_count": 1,
   "metadata": {},
   "outputs": [
    {
     "name": "stdout",
     "output_type": "stream",
     "text": [
      "Opening dialogue box for file selection. Please choose a file.\n",
      "File selected:\n",
      "Opening dialogue box for folder selection. Please choose a folder.\n",
      "Folder selected:\n",
      "C:/Users/dlist/OneDrive/Desktop/Comp. Sci- Nur 6806/Pyth Combine Files/exerPythCombineFiles/FileTypes/FileTypes\n"
     ]
    }
   ],
   "source": [
    "# Have user select excel sheet with needed data.\n",
    "import tkinter as tk\n",
    "from tkinter import filedialog\n",
    "\n",
    "root = tk.Tk()\n",
    "root.lift()\n",
    "root.withdraw()\n",
    "\n",
    "# This code block will open a specific file. (Uncomment the lines after this comment to use them.)\n",
    "print('Opening dialogue box for file selection. Please choose a file.')\n",
    "file_path = filedialog.askopenfilename()\n",
    "print('File selected:')\n",
    "\n",
    "# This code block will get a directory path. (Uncomment the lines after this comment to use them.)\n",
    "print('Opening dialogue box for folder selection. Please choose a folder.')\n",
    "file_path = filedialog.askdirectory()\n",
    "print('Folder selected:')\n",
    "\n",
    "print(file_path)"
   ]
  },
  {
   "cell_type": "code",
   "execution_count": 2,
   "metadata": {},
   "outputs": [
    {
     "name": "stdout",
     "output_type": "stream",
     "text": [
      "['.ipynb_checkpoints', 'Combine multiple file types with same columns into dataframe.ipynb', 'Combine multiple file types with same columns into dataframe.py', 'CSVtest.csv', 'CSVtest2.csv', 'CSVtestA.csv', 'CSVtestB.csv', 'EXCELtest.xlsx', 'EXCELtest2.xlsx', 'EXCELtestA.xlsx', 'EXCELtestB.xlsx', 'JSONtest.json', 'JSONtest2.json', 'JSONtest3.json', 'JSONtestA.json', 'JSONtestB.json', 'JSONtestB1.json', 'JSONtestC.json', 'NewCombinedFile_2020-10-12.csv', 'XMLtest.xml', 'XMLtest2.xml', 'XMLtest3.xml', 'XMLtestA.xml', 'XMLtestB.xml', 'XMLtestC.xml']\n",
      "CSVfiles:  ['CSVtest.csv', 'CSVtest2.csv', 'CSVtestA.csv', 'CSVtestB.csv', 'NewCombinedFile_2020-10-12.csv'] \n",
      "Excel files:  ['EXCELtest.xlsx', 'EXCELtest2.xlsx', 'EXCELtestA.xlsx', 'EXCELtestB.xlsx'] \n",
      "JSON files:  ['JSONtest.json', 'JSONtest2.json', 'JSONtest3.json', 'JSONtestA.json', 'JSONtestB.json', 'JSONtestB1.json', 'JSONtestC.json'] \n",
      "XML files:  ['XMLtest.xml', 'XMLtest2.xml', 'XMLtest3.xml', 'XMLtestA.xml', 'XMLtestB.xml', 'XMLtestC.xml']\n"
     ]
    }
   ],
   "source": [
    "# Make sure correct files are recognized.\n",
    "\n",
    "import os\n",
    "import pandas as pd\n",
    "\n",
    "# List the files in the directory.\n",
    "files = os.listdir(file_path)\n",
    "print(files)\n",
    "\n",
    "# List of file types we want to add\n",
    "file_types = ['xlsx','csv','json','xml']\n",
    "\n",
    "# create a list of files for each file type\n",
    "files_csv = [f for f in files if f[-3:] == 'csv']\n",
    "files_xlsx = [f for f in files if f[-4:] == 'xlsx']\n",
    "files_json = [f for f in files if f[-4:] == 'json']\n",
    "files_xml = [f for f in files if f[-3:] == 'xml']\n",
    "\n",
    "print('CSVfiles: ', files_csv, '\\nExcel files: ', files_xlsx, '\\nJSON files: ', files_json, '\\nXML files: ', files_xml)"
   ]
  },
  {
   "cell_type": "code",
   "execution_count": 4,
   "metadata": {
    "scrolled": true
   },
   "outputs": [
    {
     "name": "stdout",
     "output_type": "stream",
     "text": [
      "74\n"
     ]
    },
    {
     "data": {
      "text/html": [
       "<div>\n",
       "<style scoped>\n",
       "    .dataframe tbody tr th:only-of-type {\n",
       "        vertical-align: middle;\n",
       "    }\n",
       "\n",
       "    .dataframe tbody tr th {\n",
       "        vertical-align: top;\n",
       "    }\n",
       "\n",
       "    .dataframe thead th {\n",
       "        text-align: right;\n",
       "    }\n",
       "</style>\n",
       "<table border=\"1\" class=\"dataframe\">\n",
       "  <thead>\n",
       "    <tr style=\"text-align: right;\">\n",
       "      <th></th>\n",
       "      <th>name</th>\n",
       "      <th>date</th>\n",
       "      <th>height</th>\n",
       "      <th>weight</th>\n",
       "      <th>Source</th>\n",
       "    </tr>\n",
       "  </thead>\n",
       "  <tbody>\n",
       "    <tr>\n",
       "      <th>0</th>\n",
       "      <td>Jack Smith</td>\n",
       "      <td>4/1/2019</td>\n",
       "      <td>185</td>\n",
       "      <td>91</td>\n",
       "      <td>CSVtest.csv</td>\n",
       "    </tr>\n",
       "    <tr>\n",
       "      <th>1</th>\n",
       "      <td>Jack Black</td>\n",
       "      <td>4/2/2019</td>\n",
       "      <td>183</td>\n",
       "      <td>91</td>\n",
       "      <td>CSVtest.csv</td>\n",
       "    </tr>\n",
       "    <tr>\n",
       "      <th>2</th>\n",
       "      <td>Brock Bricks</td>\n",
       "      <td>4/10/2019</td>\n",
       "      <td>185</td>\n",
       "      <td>95</td>\n",
       "      <td>CSVtest2.csv</td>\n",
       "    </tr>\n",
       "    <tr>\n",
       "      <th>3</th>\n",
       "      <td>Jack Brack</td>\n",
       "      <td>6/7/2019</td>\n",
       "      <td>172</td>\n",
       "      <td>91</td>\n",
       "      <td>CSVtest2.csv</td>\n",
       "    </tr>\n",
       "    <tr>\n",
       "      <th>4</th>\n",
       "      <td>Jack Smith</td>\n",
       "      <td>4/1/2019</td>\n",
       "      <td>185</td>\n",
       "      <td>91</td>\n",
       "      <td>CSVtestA.csv</td>\n",
       "    </tr>\n",
       "    <tr>\n",
       "      <th>...</th>\n",
       "      <td>...</td>\n",
       "      <td>...</td>\n",
       "      <td>...</td>\n",
       "      <td>...</td>\n",
       "      <td>...</td>\n",
       "    </tr>\n",
       "    <tr>\n",
       "      <th>69</th>\n",
       "      <td>John Smithe</td>\n",
       "      <td>03/08/2019</td>\n",
       "      <td>185</td>\n",
       "      <td>101</td>\n",
       "      <td>XMLtest2.xml</td>\n",
       "    </tr>\n",
       "    <tr>\n",
       "      <th>70</th>\n",
       "      <td>Brett Smithe</td>\n",
       "      <td>05/08/2019</td>\n",
       "      <td>179</td>\n",
       "      <td>99</td>\n",
       "      <td>XMLtest3.xml</td>\n",
       "    </tr>\n",
       "    <tr>\n",
       "      <th>71</th>\n",
       "      <td>Big Tom</td>\n",
       "      <td>08/02/2019</td>\n",
       "      <td>112</td>\n",
       "      <td>200</td>\n",
       "      <td>XMLtestA.xml</td>\n",
       "    </tr>\n",
       "    <tr>\n",
       "      <th>72</th>\n",
       "      <td>Big Johne</td>\n",
       "      <td>08/03/2019</td>\n",
       "      <td>245</td>\n",
       "      <td>221</td>\n",
       "      <td>XMLtestB.xml</td>\n",
       "    </tr>\n",
       "    <tr>\n",
       "      <th>73</th>\n",
       "      <td>Harley Smithe</td>\n",
       "      <td>08/18/2019</td>\n",
       "      <td>197</td>\n",
       "      <td>88</td>\n",
       "      <td>XMLtestC.xml</td>\n",
       "    </tr>\n",
       "  </tbody>\n",
       "</table>\n",
       "<p>74 rows × 5 columns</p>\n",
       "</div>"
      ],
      "text/plain": [
       "             name        date height weight        Source\n",
       "0      Jack Smith    4/1/2019    185     91   CSVtest.csv\n",
       "1      Jack Black    4/2/2019    183     91   CSVtest.csv\n",
       "2    Brock Bricks   4/10/2019    185     95  CSVtest2.csv\n",
       "3      Jack Brack    6/7/2019    172     91  CSVtest2.csv\n",
       "4      Jack Smith    4/1/2019    185     91  CSVtestA.csv\n",
       "..            ...         ...    ...    ...           ...\n",
       "69    John Smithe  03/08/2019    185    101  XMLtest2.xml\n",
       "70   Brett Smithe  05/08/2019    179     99  XMLtest3.xml\n",
       "71        Big Tom  08/02/2019    112    200  XMLtestA.xml\n",
       "72      Big Johne  08/03/2019    245    221  XMLtestB.xml\n",
       "73  Harley Smithe  08/18/2019    197     88  XMLtestC.xml\n",
       "\n",
       "[74 rows x 5 columns]"
      ]
     },
     "execution_count": 4,
     "metadata": {},
     "output_type": "execute_result"
    }
   ],
   "source": [
    "import json\n",
    "import requests \n",
    "import xml.etree.ElementTree as ET\n",
    "\n",
    "# Iterate through the files in the directory and append each one into the dataframe.\n",
    "# This will only work correctly if the files have the exact same column names.\n",
    "df_list = []\n",
    "for f in files_csv:\n",
    "    data = pd.read_csv(str(file_path) + '/' + str(f), index_col=None, header=0)\n",
    "    data['Source'] = f\n",
    "    df_list.append(data)\n",
    "    \n",
    "for f in files_xlsx:\n",
    "    data = pd.read_excel(str(file_path) + '/' + str(f))\n",
    "    data['Source'] = f\n",
    "    df_list.append(data)\n",
    "    \n",
    "# Iterate through the json files and add data from each to a list.\n",
    "json_list = []\n",
    "for f in files_json:\n",
    "    with open(str(file_path) + '/' + str(f)) as json_file:\n",
    "        json_obj = json.load(json_file)\n",
    "        json_obj['Source'] = f\n",
    "        json_list.append(json_obj.copy())\n",
    "# Turn the combined list into a dataframe.\n",
    "data = pd.DataFrame(json_list)\n",
    "# Add the data frame to the list of dataframes.\n",
    "df_list.append(data)\n",
    "    \n",
    "# Iterate through the xml files and add data from each to a list.\n",
    "xml_list = []\n",
    "for f in files_xml:\n",
    "    # create element tree object \n",
    "    tree = ET.parse(str(file_path) + '/' + str(f))\n",
    "    # get root element \n",
    "    root = tree.getroot()\n",
    "    # create dictionary from XML tags and values\n",
    "    itemdict = {}\n",
    "    for item in root:\n",
    "        itemdict[item.tag] = item.text\n",
    "    itemdict['Source'] = f\n",
    "    xml_list.append(itemdict.copy())\n",
    "# Turn the combined list into a dataframe.\n",
    "data = pd.DataFrame(xml_list)\n",
    "# Add the data frame to the list of dataframes.\n",
    "df_list.append(data)\n",
    "\n",
    "# Combine all the data frames in the list into a single data frame.    \n",
    "df =  pd.concat(df_list, axis=0, ignore_index=True, sort=False)\n",
    "\n",
    "# See how many rows the data frame has.\n",
    "print(len(df.index))\n",
    "\n",
    "# Show the data in the data frame.\n",
    "df"
   ]
  },
  {
   "cell_type": "code",
   "execution_count": 5,
   "metadata": {},
   "outputs": [
    {
     "name": "stdout",
     "output_type": "stream",
     "text": [
      "2020-10-22\n",
      "C:/Users/dlist/OneDrive/Desktop/Comp. Sci- Nur 6806/Pyth Combine Files/exerPythCombineFiles/FileTypes/FileTypes/NewCombinedFile_2020-10-22.csv\n",
      "File saved.\n"
     ]
    }
   ],
   "source": [
    "# Save the dataframe to a new combined csv file.\n",
    "\n",
    "# Add today's date to the name of the new file.\n",
    "from datetime import date\n",
    "today = date.today()\n",
    "print(today)\n",
    "\n",
    "filename = str(file_path) + '/' + 'NewCombinedFile_' + str(today) + '.csv'\n",
    "print(filename)\n",
    "\n",
    "df.to_csv(filename, index=False)\n",
    "print('File saved.')"
   ]
  },
  {
   "cell_type": "code",
   "execution_count": null,
   "metadata": {},
   "outputs": [],
   "source": []
  }
 ],
 "metadata": {
  "kernelspec": {
   "display_name": "Python 3",
   "language": "python",
   "name": "python3"
  },
  "language_info": {
   "codemirror_mode": {
    "name": "ipython",
    "version": 3
   },
   "file_extension": ".py",
   "mimetype": "text/x-python",
   "name": "python",
   "nbconvert_exporter": "python",
   "pygments_lexer": "ipython3",
   "version": "3.8.3"
  },
  "varInspector": {
   "cols": {
    "lenName": 16,
    "lenType": 16,
    "lenVar": 40
   },
   "kernels_config": {
    "python": {
     "delete_cmd_postfix": "",
     "delete_cmd_prefix": "del ",
     "library": "var_list.py",
     "varRefreshCmd": "print(var_dic_list())"
    },
    "r": {
     "delete_cmd_postfix": ") ",
     "delete_cmd_prefix": "rm(",
     "library": "var_list.r",
     "varRefreshCmd": "cat(var_dic_list()) "
    }
   },
   "types_to_exclude": [
    "module",
    "function",
    "builtin_function_or_method",
    "instance",
    "_Feature"
   ],
   "window_display": false
  }
 },
 "nbformat": 4,
 "nbformat_minor": 2
}
